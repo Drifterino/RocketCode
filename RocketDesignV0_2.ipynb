{
 "cells": [
  {
   "cell_type": "markdown",
   "metadata": {},
   "source": [
    "# Rocket Calculations Software"
   ]
  },
  {
   "cell_type": "markdown",
   "metadata": {},
   "source": [
    "#### Written by Brendan"
   ]
  },
  {
   "cell_type": "code",
   "execution_count": 1,
   "metadata": {},
   "outputs": [],
   "source": [
    "import matplotlib.pyplot as plt\n",
    "import numpy as np\n",
    "import pandas as pd\n",
    "import ipywidgets as widgets\n",
    "import time\n",
    "from IPython.display import display"
   ]
  },
  {
   "cell_type": "code",
   "execution_count": 2,
   "metadata": {},
   "outputs": [],
   "source": [
    "SIAltTable=[i*1000 for i in [0,1,3,5,10,25,50,75,100,130,160,200,300,400,600,1000]]\n",
    "SITempTable=[288.15,281.651,268.65,255.65,223.252,221.552,270.65,206.65,195.08,469.27,696.29,845.56,976.01,995.83,999.85,1000]\n",
    "SIPressTable=[i*101325 for i in [1,0.887,0.66919,0.53313,0.26151,0.025158,0.00078735,0.000020408,0.00000031593,1.2341e-8,2.9997e-9,8.3628e-10,8.6557e-11,1.4328e-11,8.1056e-13,7.4155e-14]]\n",
    "USAltTable=[i*3.28084 for i in SIAltTable]\n",
    "USTempTable=[i*1.8 for i in SITempTable]\n",
    "USPressTable=[i*0.020885434273039 for i in SIPressTable]\n",
    "\n",
    "AltTable=[0]*16\n",
    "TempTable=[0]*16\n",
    "PressTable=[0]*16\n",
    "\n",
    "def ChangeUnits(change):\n",
    "    \n",
    "    global AltTable\n",
    "    global TempTable\n",
    "    global PressTable\n",
    "    \n",
    "    if (Units_Select.value == 'Metric'):\n",
    "        gravity.value=9.81\n",
    "        AltTable=SIAltTable\n",
    "        TempTable=SITempTable\n",
    "        PressTable=SIPressTable\n",
    "        Alt_Select.options=AltTable\n",
    "\n",
    "    elif (Units_Select.value == 'Imperial'):\n",
    "        gravity.value=32.17\n",
    "        AltTable=USAltTable\n",
    "        TempTable=USTempTable\n",
    "        PressTable=USPressTable\n",
    "        Alt_Select.options=AltTable\n",
    "                                  \n",
    "    else:\n",
    "        print('ERROR')\n",
    "    print(TempTable[AltTable.index(Alt_Select.value)])\n",
    "    \n",
    "    \n",
    "def UpdateValues(change):\n",
    "    \n",
    "        temperature3.value=TempTable[AltTable.index(Alt_Select.value)]\n",
    "        pressure3.value=PressTable[AltTable.index(Alt_Select.value)]\n",
    "        \n",
    "        \n",
    "       \n",
    "    \n",
    "    \n",
    "def PropMass(InitialM , FinalM):\n",
    "    m=InitialM-FinalM\n",
    "    return m\n",
    "\n",
    "def MRVehicle(InitialM , FinalM):\n",
    "    mr=FinalM/InitialM\n",
    "    return mr\n",
    "\n",
    "def MRSubSys(InitialM , FinalM , NonSysMass):\n",
    "    mr=(FinalM-NonSysMass)/(InitialM-NonSysMass)\n",
    "    return mr\n",
    "\n",
    "def PMFVehicle(PropellantMass , InitialM):\n",
    "    PMF=PropellantMass/InitialM\n",
    "    return PMF\n",
    "\n",
    "def PMFSubSys(PropellantMass , InitialM , NonSysMass):\n",
    "    PMF=PropellantMass/(InitialM-NonSysMass)\n",
    "    return PMF\n",
    "\n",
    "def MassFlow(PropM , BurnTime):\n",
    "    mflow=PropM/BurnTime\n",
    "    return mflow\n",
    "\n",
    "def WeightFlow(MFR , gravitySL):  \n",
    "    WFR=MFR*gravitySL  \n",
    "    return WFR\n",
    "\n",
    "def EEV_ISP(Isp , Gravity):\n",
    "    c=Isp*Gravity\n",
    "    return c\n",
    "\n",
    "def EEV_Force(Thrust , MFR):    \n",
    "    c=Thrust/MFR    \n",
    "    return c\n",
    "\n",
    "def IdealThrust(C , MFR):\n",
    "    F=MFR*C\n",
    "    return F\n",
    "\n",
    "def MomThrust(MFR , V2):    \n",
    "    mt=MFR*V2    \n",
    "    return mt\n",
    "\n",
    "def RealThrust(MomentumThrust , PressureThrust):    \n",
    "    T=MomentumThrust+PressureThrust    \n",
    "    return T\n",
    "\n",
    "def TotalImpulse(Force , Time):    \n",
    "    I=Force*Time   \n",
    "    return I\n",
    "\n",
    "def Acceleration(Thrust , Mass):   \n",
    "    a=Thrust/Mass    \n",
    "    return a\n",
    "\n",
    "def CStar(ChamberP , ThroatArea , MFR):    \n",
    "    cstar=(ChamberP*ThroatArea)/MFR    \n",
    "    return cstar\n",
    "\n",
    "def SpecificImpulse(Thrust , WeightFlowRate):    \n",
    "    Isp=Thrust/WeightFlowRate    \n",
    "    return Isp\n",
    "\n",
    "def PressThrust(p2 , p3 , A2):    \n",
    "    pt=(p2-p3)*A2\n",
    "    return pt\n",
    "\n",
    "def ExhaustV(TotalThrust , PThrust , MFR):   \n",
    "    v=(TotalThrust-PThrust)/MFR  \n",
    "    return v\n",
    "\n"
   ]
  },
  {
   "cell_type": "code",
   "execution_count": 3,
   "metadata": {},
   "outputs": [
    {
     "data": {
      "application/vnd.jupyter.widget-view+json": {
       "model_id": "b72c0747a2d941f4ae5954d2ebb7b607",
       "version_major": 2,
       "version_minor": 0
      },
      "text/plain": [
       "VBox(children=(ToggleButtons(description='System: ', options=('Metric', 'Imperial'), tooltips=('Description of…"
      ]
     },
     "metadata": {},
     "output_type": "display_data"
    },
    {
     "data": {
      "application/vnd.jupyter.widget-view+json": {
       "model_id": "76e05f5d5004443b9c2ac76329d79b53",
       "version_major": 2,
       "version_minor": 0
      },
      "text/plain": [
       "HBox(children=(FloatText(value=0.0, description='Gravity: ', disabled=True, style=DescriptionStyle(description…"
      ]
     },
     "metadata": {},
     "output_type": "display_data"
    },
    {
     "data": {
      "application/vnd.jupyter.widget-view+json": {
       "model_id": "f2daf8968b9d4e2ab29d5ad924589b1c",
       "version_major": 2,
       "version_minor": 0
      },
      "text/plain": [
       "HBox(children=(FloatText(value=0.0, continuous_update=True, description='Ambient Temperature: ', disabled=True…"
      ]
     },
     "metadata": {},
     "output_type": "display_data"
    },
    {
     "data": {
      "application/vnd.jupyter.widget-view+json": {
       "model_id": "20b9cc23c8df44a3bc48a7e1337e1449",
       "version_major": 2,
       "version_minor": 0
      },
      "text/plain": [
       "HBox(children=(FloatText(value=0.0, continuous_update=True, description='Ambient Pressure: ', disabled=True, s…"
      ]
     },
     "metadata": {},
     "output_type": "display_data"
    },
    {
     "name": "stdout",
     "output_type": "stream",
     "text": [
      "518.67\n",
      "518.67\n",
      "288.15\n",
      "288.15\n",
      "518.67\n",
      "518.67\n",
      "288.15\n",
      "288.15\n",
      "518.67\n",
      "518.67\n",
      "288.15\n",
      "288.15\n"
     ]
    }
   ],
   "source": [
    "\n",
    "style = {'description_width': 'initial'}\n",
    "style=style\n",
    "\n",
    "gravity=widgets.FloatText(\n",
    "    value=0,\n",
    "    description='Gravity: ',\n",
    "    disabled=True,\n",
    "    style=style\n",
    "\n",
    ")\n",
    "\n",
    "Alt_Select=widgets.SelectionSlider(options=['0']*16,\n",
    "    value='0',\n",
    "    description='Craft Altitude: ',\n",
    "    disabled=False,\n",
    "    continuous_update=True,\n",
    "    orientation='horizontal',\n",
    "    readout=True,\n",
    "    style=style\n",
    ")\n",
    "\n",
    "temperature3=widgets.FloatText(\n",
    "    value=0,\n",
    "    description='Ambient Temperature: ',\n",
    "    continuous_update=True,\n",
    "    disabled=True,\n",
    "    style=style\n",
    ")\n",
    "\n",
    "pressure3=widgets.FloatText(\n",
    "    value=0,\n",
    "    description='Ambient Pressure: ',\n",
    "    continuous_update=True,\n",
    "    disabled=True,\n",
    "    style=style\n",
    ")\n",
    "\n",
    "Units_Select=widgets.ToggleButtons(\n",
    "    options=['Metric','Imperial'],\n",
    "    value='Metric',\n",
    "    description='System: ',\n",
    "    disabled=False,\n",
    "    button_style='', # 'success', 'info', 'warning', 'danger' or ''\n",
    "    tooltips=['Description of Metric', 'Description of Imperial'],\n",
    "    # icons=['check'] * 2\n",
    ")\n",
    "\n",
    "SpecificHeatRatio = widgets.FloatSlider(min=1.0 , max=1.70 , step=0.01 , \n",
    "                                        description=\"Ratio of Specific Heats: \", \n",
    "                                        value=1.4,\n",
    "                                        style=style\n",
    ")\n",
    "\n",
    "temperature3.observe(UpdateValues , names=['value'])\n",
    "pressure3.observe(UpdateValues , names=['value'])\n",
    "Alt_Select.observe(ChangeUnits , names=['options'])\n",
    "Units_Select.observe(ChangeUnits , names=['value'])\n",
    "\n",
    "\n",
    "\n",
    "DispWindows1=widgets.VBox([Units_Select , SpecificHeatRatio , Alt_Select],\n",
    "                        layout=widgets.Layout(overflow='visible',\n",
    "                        align_items='center',\n",
    "                        align_contents='center',)\n",
    ")\n",
    "\n",
    "DispWindows2=widgets.HBox([gravity],\n",
    "                        layout=widgets.Layout(overflow='visible',\n",
    "                        align_items='center',\n",
    "                        align_contents='center',)\n",
    ")\n",
    "\n",
    "DispWindows3=widgets.HBox([temperature3],\n",
    "                        layout=widgets.Layout(overflow='visible',\n",
    "                        align_items='center',\n",
    "                        align_contents='center',)\n",
    ")\n",
    "\n",
    "DispWindows4=widgets.HBox([pressure3 ],\n",
    "                        layout=widgets.Layout(overflow='visible',\n",
    "                        align_items='center',\n",
    "                        align_contents='center',)\n",
    ")\n",
    "\n",
    "\n",
    "    \n",
    "display(DispWindows1,DispWindows2,DispWindows3,DispWindows4)\n",
    "\n",
    "\n"
   ]
  },
  {
   "cell_type": "markdown",
   "metadata": {},
   "source": [
    "MAKE SURE TO TRY AND LINK THE SLIDE FUNCTION TO A TEXT BLOCK FOR UPDATES"
   ]
  }
 ],
 "metadata": {
  "kernelspec": {
   "display_name": "Python 3",
   "language": "python",
   "name": "python3"
  },
  "language_info": {
   "codemirror_mode": {
    "name": "ipython",
    "version": 3
   },
   "file_extension": ".py",
   "mimetype": "text/x-python",
   "name": "python",
   "nbconvert_exporter": "python",
   "pygments_lexer": "ipython3",
   "version": "3.7.4"
  }
 },
 "nbformat": 4,
 "nbformat_minor": 2
}
