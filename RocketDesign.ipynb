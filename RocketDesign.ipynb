{
 "cells": [
  {
   "cell_type": "markdown",
   "metadata": {},
   "source": [
    "# Rocket Calculations Software"
   ]
  },
  {
   "cell_type": "markdown",
   "metadata": {},
   "source": [
    "#### Written by Brendan"
   ]
  },
  {
   "cell_type": "code",
   "execution_count": null,
   "metadata": {},
   "outputs": [],
   "source": [
    "def PropMass(InitialM , FinalM):\n",
    "\n",
    "    m=InitialM-FinalM\n",
    "\n",
    "    return m\n",
    "\n",
    "\n",
    "def MassRatio(InitialM , FinalM):\n",
    "\n",
    "    mr=FinalM/InitialM\n",
    "\n",
    "    return mr\n",
    "\n",
    "\n",
    "def PMF_prop(InitialM , FinalM , StructM):\n",
    "\n",
    "    PMF=PropMass(InitialM , FinalM)/(InitialM-StructM)\n",
    "\n",
    "    return PMF\n",
    "\n",
    "\n",
    "def MassFlow(PropM , BurnTime):\n",
    "\n",
    "    mflow=PropM/BurnTime\n",
    "\n",
    "    return mflow\n",
    "\n",
    "\n",
    "def EEVelocity(Isp , Gravity):\n",
    "\n",
    "    c=Isp*Gravity\n",
    "\n",
    "    return c\n",
    "\n",
    "\n",
    "def IdealThrust(C , MFR):\n",
    "\n",
    "    F=MFR*C\n",
    "\n",
    "    return F"
   ]
  },
  {
   "cell_type": "code",
   "execution_count": null,
   "metadata": {},
   "outputs": [],
   "source": []
  }
 ],
 "metadata": {
  "kernelspec": {
   "display_name": "Python 3",
   "language": "python",
   "name": "python3"
  },
  "language_info": {
   "codemirror_mode": {
    "name": "ipython",
    "version": 3
   },
   "file_extension": ".py",
   "mimetype": "text/x-python",
   "name": "python",
   "nbconvert_exporter": "python",
   "pygments_lexer": "ipython3",
   "version": "3.7.4"
  }
 },
 "nbformat": 4,
 "nbformat_minor": 2
}
