{
 "cells": [
  {
   "cell_type": "markdown",
   "metadata": {},
   "source": [
    "# Rocket Calculations Software"
   ]
  },
  {
   "cell_type": "markdown",
   "metadata": {},
   "source": [
    "#### Written by Brendan"
   ]
  },
  {
   "cell_type": "code",
   "execution_count": 1,
   "metadata": {},
   "outputs": [],
   "source": [
    "import matplotlib.pyplot as plt\n",
    "import numpy as np\n",
    "import pandas as pd\n",
    "import ipywidgets as widgets\n",
    "import time\n",
    "import math\n",
    "from IPython.display import display"
   ]
  },
  {
   "cell_type": "code",
   "execution_count": 2,
   "metadata": {},
   "outputs": [],
   "source": [
    "SIAltTable=[i*1000 for i in [0,1,3,5,10,25,50,75,100,130,160,200,300,400,600,1000]]\n",
    "SITempTable=[288.15,281.651,268.65,255.65,223.252,221.552,270.65,206.65,195.08,469.27,696.29,845.56,976.01,995.83,999.85,1000]\n",
    "SIPressTable=[i*101325 for i in [1,0.887,0.66919,0.53313,0.26151,0.025158,0.00078735,0.000020408,0.00000031593,1.2341e-8,2.9997e-9,8.3628e-10,8.6557e-11,1.4328e-11,8.1056e-13,7.4155e-14]]\n",
    "USAltTable=[i*3.28084 for i in SIAltTable]\n",
    "USTempTable=[i*1.8 for i in SITempTable]\n",
    "USPressTable=[i*0.020885434273039 for i in SIPressTable]\n",
    "\n",
    "AltTable=SIAltTable\n",
    "TempTable=SITempTable\n",
    "PressTable=SIPressTable\n",
    "\n",
    "def ChangeUnits(change):\n",
    "    \n",
    "    global AltTable\n",
    "    global TempTable\n",
    "    global PressTable\n",
    "    global GasConstant\n",
    "    \n",
    "    if (Units_Select.value == 'Metric'): \n",
    "        gravity.value=9.81\n",
    "        AltTable=SIAltTable\n",
    "        TempTable=SITempTable\n",
    "        PressTable=SIPressTable\n",
    "        Alt_Select.options=AltTable\n",
    "\n",
    "    elif (Units_Select.value == 'Imperial'):\n",
    "        gravity.value=32.17\n",
    "        AltTable=USAltTable\n",
    "        TempTable=USTempTable\n",
    "        PressTable=USPressTable\n",
    "        Alt_Select.options=AltTable\n",
    "                                  \n",
    "    else:\n",
    "        print('ERROR')\n",
    "    \n",
    "%run RocketEquations.py\n",
    "\n"
   ]
  },
  {
   "cell_type": "markdown",
   "metadata": {},
   "source": [
    "## Homework Code"
   ]
  },
  {
   "cell_type": "code",
   "execution_count": 3,
   "metadata": {},
   "outputs": [],
   "source": [
    "# homework 3\n",
    "homework3 = widgets.Button(description=\"Homework 3\")\n",
    "outputhw3 = widgets.Output()\n",
    "def hw3(b):\n",
    "    with outputhw3:\n",
    "        print('\\n~~~~~~~~~~~~~~~~~~~~~~~')\n",
    "        print('~ Homework 3 Results: ~')\n",
    "        print('~~~~~~~~~~~~~~~~~~~~~~~\\n')\n",
    "        po=ChamberP(PressTable[AltTable.index(Alt_Select.value)],SpecificHeatRatio.value,ExitMach.value)\n",
    "        print('Chamber Pressure: ','{0:.0f}'.format(po),' (Pa)')\n",
    "        ER=ExpansionRatio(SpecificHeatRatio.value,ExitMach.value)\n",
    "        print('Nozzle Area Ratio: ','{0:.3f}'.format(ER),' (~)')\n",
    "\n",
    "homework3.on_click(hw3)\n",
    "\n",
    "\n",
    "# homework 4\n",
    "homework4 = widgets.Button(description=\"Homework 4\")\n",
    "outputhw4 = widgets.Output()\n",
    "def hw4(b):\n",
    "    with outputhw4:\n",
    "        \n",
    "        print('Plot 3-1\\n')\n",
    "        k=1.2\n",
    "        M=np.arange(0.1,10.1,0.001)\n",
    "        PPo=PressureRatio(k,M)\n",
    "        TTo=TempRatio(k,M)\n",
    "        AR=ExpansionRatio(k,M)\n",
    "        \n",
    "        color='tab:red'\n",
    "        fig,ax1=plt.subplots()\n",
    "        plt.xscale('log')\n",
    "        plt.yscale('log')\n",
    "        ax1.set_xlabel('Mach Number')\n",
    "        ax1.set_ylabel('Pressure and Temperature Ratios', color=color)\n",
    "        pressline=ax1.plot(M,PPo,color='tab:orange', label=\"p/po\")\n",
    "        templine=ax1.plot(M,TTo,color='tab:purple', label=\"T/To\")\n",
    "        ax1.tick_params(axis='y', labelcolor=color)\n",
    "        ax1.set_ylim([0.01,5])\n",
    "        plt.xlabel('Mach Number')\n",
    "        plt.legend(bbox_to_anchor=(1.05, 1), loc='upper left', borderaxespad=0.)\n",
    "        ax2=ax1.twinx()  \n",
    "\n",
    "        plt.xscale('log')\n",
    "        plt.yscale('log')\n",
    "        color='tab:blue'\n",
    "        ax2.set_ylabel('Area Ratio', color=color)  \n",
    "        arealine=ax2.plot(M,AR,color=color, label='A/At')\n",
    "        ax2.tick_params(axis='y', labelcolor=color)\n",
    "        ax2.set_ylim([1.0,500])\n",
    "        plt.xlim(0.10,10)\n",
    "        plt.title('Area Ratio, Pressure Ratio, and Temperature Ratio as a Function of Mach Number\\n')\n",
    "        fig.tight_layout()  \n",
    "        plt.legend(bbox_to_anchor=(1.05, 1), loc='lower left', borderaxespad=0.)\n",
    "        plt.show() \n",
    "        \n",
    "        print('Plot 3-2\\n')\n",
    "        \n",
    "        \n",
    "        k=1.3\n",
    "        PPo1=40.0\n",
    "        PPo2=20.0\n",
    "        ToM=np.arange(70.0,280.1,0.1)\n",
    "        R=1545\n",
    "        V1=(((2*k*32.2)/(k-1))*R*ToM*(1-((PPo1)**-1)**((k-1)/k)))**(1/2)\n",
    "        V2=(((2*k*32.2)/(k-1))*R*ToM*(1-((PPo2)**-1)**((k-1)/k)))**(1/2)\n",
    "        gc=32.2\n",
    "        \n",
    "        fig,ax1=plt.subplots()\n",
    "        color='tab:green'\n",
    "        ax1.set_xlabel('T1/M (R-lb-mol/lbm)')\n",
    "        ax1.set_ylabel('Ideal Specific Impulse (s)')\n",
    "        ax1.plot(ToM,SpecificImpulseV(V1,gc),color=color,label='p1/p2=40')\n",
    "        ax1.set_ylim([120,280])\n",
    "        plt.xlabel('T1/M (R-lb-mol/lbm)')\n",
    "        plt.legend(bbox_to_anchor=(1.15, 1), loc='upper left', borderaxespad=0.)\n",
    "        ax2=ax1.twinx()  \n",
    "\n",
    "        color='tab:orange'\n",
    "        ax2.set_ylabel('Ideal Exhaust Velocity (ft/sec)')  \n",
    "        ax2.plot(ToM,V2,color=color,label='p1/p2=20')\n",
    "        ax2.set_ylim([3900, 9050])\n",
    "        plt.xlim(70,280)\n",
    "        plt.title('Isp and Ideal Ve With Respect to T1/M for p1/p2 of 20 and 40\\n\\n')\n",
    "        fig.tight_layout() \n",
    "        plt.legend(bbox_to_anchor=(1.15, 1), loc='lower left', borderaxespad=0.)\n",
    "        plt.show()          \n",
    "        \n",
    "        \n",
    "\n",
    "homework4.on_click(hw4)\n",
    "\n",
    "\n",
    "# homework 5\n",
    "homework5 = widgets.Button(description=\"Homework 5\")\n",
    "outputhw5 = widgets.Output()\n",
    "def hw5(b):\n",
    "    with outputhw5:\n",
    "        \n",
    "        print('Plot 3-5')\n",
    "        \n",
    "        k=1.20\n",
    "        Epsln=50\n",
    "        p1p2=np.arange(10.0,10000.1,0.1)\n",
    "        p2p1=p1p2**-1\n",
    "        Cf=CfIdeal(k,p2p1)\n",
    "        \n",
    "        \n",
    "        Cfcoords=[]\n",
    "        Pcoords=[]\n",
    "        \n",
    "        for K in(1.1,1.2,1.25,1.3,1.4):\n",
    "            AR=AreaRatio(K,p2p1)\n",
    "            AR=AR.tolist()\n",
    "            Cfcoords.append(CfIdeal(K,p2p1[AR.index(FindEpsln(AR,50))]))\n",
    "            \n",
    "        for K in(1.1,1.2,1.25,1.3,1.4):\n",
    "            AR=AreaRatio(K,p2p1)\n",
    "            AR=AR.tolist()\n",
    "            Pcoords.append(p1p2[AR.index(FindEpsln(AR,50))])\n",
    "        \n",
    "        plt.xlabel('p1/p2')\n",
    "        plt.ylabel('Cf')\n",
    "        plt.plot(p1p2,Cf, color='tab:blue',label='k=1.20')\n",
    "        plt.plot(Pcoords,Cfcoords,color='tab:red',label='Epsilon=50')\n",
    "        plt.xlim([10,10000])\n",
    "        plt.xscale('log')\n",
    "        plt.ylim([1.2,2.3])\n",
    "        plt.title('Coefficient of Thrust @ k=1.20 vs. p1/p2 Intersecting Epsilon=50\\n')\n",
    "        plt.legend(bbox_to_anchor=(1.06, 1), loc='upper left', borderaxespad=0.)\n",
    "        plt.show()\n",
    "        \n",
    "homework5.on_click(hw5)\n",
    "\n",
    "\n",
    "# homework 6\n",
    "homework6 = widgets.Button(description=\"Homework 6\")\n",
    "outputhw6 = widgets.Output()\n",
    "def hw6(b):\n",
    "    with outputhw6:\n",
    "        p3=SIPressTable[SIAltTable.index(0)]\n",
    "        t3=SITempTable[SIAltTable.index(0)]\n",
    "        F=20000\n",
    "        FAct=F*0.98\n",
    "        p1=6.55e6\n",
    "        t1=3526\n",
    "        k=1.20\n",
    "        R=20.3*8.3143\n",
    "        p2=p3\n",
    "        p2p1=p2/p1\n",
    "        IdCf=CfIdeal(1.2,p2p1)\n",
    "        AR=(AreaRatio(k,p2p1))**-1\n",
    "        Tt=(2*t1)/(k+1)\n",
    "        v2=ExhaustVMet(k,R,t1,p2p1)\n",
    "        IdIsp=v2/9.81\n",
    "        v2act=v2*0.97\n",
    "        ActIsp=v2act/9.81\n",
    "        mdot=MassFlow(F,v2)\n",
    "        mdotact=MassFlow(FAct,v2act)\n",
    "        At=ThroatArea(mdot,p1,R,t1,k)\n",
    "        Atact=ThroatArea(mdotact,p1,R,t1,k)\n",
    "        Ae=At/AR\n",
    "        Aeact=Atact/AR\n",
    "        ActCf=(FAct/(p1*Atact))\n",
    "        t2=t1*(p3/p1)**((k-1)/k)\n",
    "        M2=v2/(1.2*R*t2)**0.5\n",
    "        \n",
    "        print('Throat Area: ','{0:.5f}'.format(At),' (m^2)\\n')\n",
    "        print('Actual Throat Area: ','{0:.5f}'.format(Atact),' (m^2)\\n')\n",
    "        print('Exit Area: ','{0:.5f}'.format(Ae),' (m^2)\\n')\n",
    "        print('Actual Exit Area: ','{0:.5f}'.format(Aeact),' (m^2)\\n')\n",
    "        print('Throat Temperature: ','{0:.1f}'.format(Tt),' (K)\\n')\n",
    "        print('Ideal Exit Velocity: ','{0:.1f}'.format(v2),' (m/s)\\n')\n",
    "        print('Actual Exit Velocity: ','{0:.1f}'.format(v2act),' (m/s)\\n')\n",
    "        print('Ideal Specific Impulse: ','{0:.1f}'.format(IdIsp),' (sec)\\n')\n",
    "        print('Actual Specific Impulse: ','{0:.1f}'.format(ActIsp),' (sec)\\n')\n",
    "        print('Ideal Cf: ','{0:.2f}'.format(IdCf),' (sec)\\n')\n",
    "        print('Actual Cf: ','{0:.2f}'.format(ActCf),' (sec)\\n')\n",
    "        print(AR**-1)\n",
    "        print(M2,' ',t2)\n",
    "\n",
    "homework6.on_click(hw6)"
   ]
  },
  {
   "cell_type": "markdown",
   "metadata": {},
   "source": [
    "## Solvers"
   ]
  },
  {
   "cell_type": "code",
   "execution_count": 4,
   "metadata": {},
   "outputs": [],
   "source": [
    "# Cold Gas Thruster Solver\n",
    "RCSsolver = widgets.Button(description=\"RCS Nozzle\")\n",
    "outputRCS = widgets.Output()\n",
    "def RCSfunc(b):\n",
    "    with outputRCS:\n",
    "        p3=USPressTable[USAltTable.index(Alt_Select.value)]\n",
    "        t3=USTempTable[USAltTable.index(Alt_Select.value)]\n",
    "        p1=ChamberPress.value*144\n",
    "        t1=2200\n",
    "        k=SpecificHeatRatio.value\n",
    "        R=GasConstant.value\n",
    "        p2=p3\n",
    "        t2=t1*(p3/p1)**((k-1)/k)\n",
    "        p2p1=p2/p1\n",
    "        AR=40**-1\n",
    "        Tt=(2*t1)/(k+1)\n",
    "        v2=ExhaustVMet(k,R,t1,p2p1)\n",
    "        M2=v2/(1.2*R*t2)**0.5\n",
    "        mdot=MassFlowRate.value\n",
    "        At=ThroatArea(mdot,p1,R,t1,k)\n",
    "        Ae=At/AR\n",
    "        Thrust=v2*mdot\n",
    "        Isp=SpecificImpulseV(v2,gravity.value)\n",
    "        \n",
    "        print('Throat Area: ','{0:.8f}'.format(At),' (m^2)\\n')\n",
    "        print('Exit Area: ','{0:.8f}'.format(Ae),' (m^2)\\n')\n",
    "        print('Throat Temperature: ','{0:.1f}'.format(Tt),' (K)\\n')\n",
    "        print('Exit Velocity: ','{0:.1f}'.format(v2),' (m/s)\\n')\n",
    "        print('Ideal Thrust: ','{0:.1f}'.format(Thrust),' (N)\\n')\n",
    "        print('Specific Impulse: ','{0:.1f}'.format(Isp),' (sec)\\n')\n",
    "        print('Mach= ',M2)\n",
    "        print(t2)\n",
    "        # Working design...\n",
    "        # Chamber Pressure: 792897 Pa\n",
    "        # Gas constsnt: 287 \n",
    "        # Chamber Temperature: SL Ambient\n",
    "        # Mass Flow Rate: 0.0996 kg/s\n",
    "        \n",
    "        \n",
    "\n",
    "RCSsolver.on_click(RCSfunc)"
   ]
  },
  {
   "cell_type": "code",
   "execution_count": 5,
   "metadata": {},
   "outputs": [
    {
     "name": "stdout",
     "output_type": "stream",
     "text": [
      "17.84407014935619\n"
     ]
    }
   ],
   "source": [
    "p3p1=200**-1\n",
    "k=1.25\n",
    "AR=(AreaRatio(k,p3p1))\n",
    "print(AR)\n"
   ]
  },
  {
   "cell_type": "markdown",
   "metadata": {},
   "source": [
    "## GUI"
   ]
  },
  {
   "cell_type": "code",
   "execution_count": 6,
   "metadata": {
    "scrolled": false
   },
   "outputs": [
    {
     "data": {
      "application/vnd.jupyter.widget-view+json": {
       "model_id": "bbbe1f2238f440faa6f7cfd8e7a19e31",
       "version_major": 2,
       "version_minor": 0
      },
      "text/plain": [
       "VBox(children=(ToggleButtons(description='System: ', options=('Metric', 'Imperial'), tooltips=('Description of…"
      ]
     },
     "metadata": {},
     "output_type": "display_data"
    },
    {
     "data": {
      "application/vnd.jupyter.widget-view+json": {
       "model_id": "bf180ed5abcb4b9a85000b33ae459781",
       "version_major": 2,
       "version_minor": 0
      },
      "text/plain": [
       "HBox(children=(FloatText(value=9.81, description='Gravity: ', disabled=True, style=DescriptionStyle(descriptio…"
      ]
     },
     "metadata": {},
     "output_type": "display_data"
    },
    {
     "data": {
      "application/vnd.jupyter.widget-view+json": {
       "model_id": "34ff42afcfba4e7f9efb6aab06b31a4a",
       "version_major": 2,
       "version_minor": 0
      },
      "text/plain": [
       "HBox(children=(FloatText(value=287.0, description='Gas Constant: ', style=DescriptionStyle(description_width='…"
      ]
     },
     "metadata": {},
     "output_type": "display_data"
    },
    {
     "data": {
      "application/vnd.jupyter.widget-view+json": {
       "model_id": "68733762edea4e738907ae4ef8d96e75",
       "version_major": 2,
       "version_minor": 0
      },
      "text/plain": [
       "Button(description='RCS Nozzle', style=ButtonStyle())"
      ]
     },
     "metadata": {},
     "output_type": "display_data"
    },
    {
     "data": {
      "application/vnd.jupyter.widget-view+json": {
       "model_id": "1356600e0af54c16abe1a15f253dead9",
       "version_major": 2,
       "version_minor": 0
      },
      "text/plain": [
       "Output()"
      ]
     },
     "metadata": {},
     "output_type": "display_data"
    },
    {
     "data": {
      "application/vnd.jupyter.widget-view+json": {
       "model_id": "b6ebf2d0becc4a83875363b3cde8e02d",
       "version_major": 2,
       "version_minor": 0
      },
      "text/plain": [
       "Button(description='Homework 3', style=ButtonStyle())"
      ]
     },
     "metadata": {},
     "output_type": "display_data"
    },
    {
     "data": {
      "application/vnd.jupyter.widget-view+json": {
       "model_id": "cacf8c4e5ac94e6baf91d9a4d9615afe",
       "version_major": 2,
       "version_minor": 0
      },
      "text/plain": [
       "Output()"
      ]
     },
     "metadata": {},
     "output_type": "display_data"
    },
    {
     "data": {
      "application/vnd.jupyter.widget-view+json": {
       "model_id": "42b69116d16a4df8a9317c25b7b4cd00",
       "version_major": 2,
       "version_minor": 0
      },
      "text/plain": [
       "Button(description='Homework 4', style=ButtonStyle())"
      ]
     },
     "metadata": {},
     "output_type": "display_data"
    },
    {
     "data": {
      "application/vnd.jupyter.widget-view+json": {
       "model_id": "93a38f30b99f491fb511a9df488435f5",
       "version_major": 2,
       "version_minor": 0
      },
      "text/plain": [
       "Output()"
      ]
     },
     "metadata": {},
     "output_type": "display_data"
    },
    {
     "data": {
      "application/vnd.jupyter.widget-view+json": {
       "model_id": "47b3fdc5472047d2ab99c8d01fbb6474",
       "version_major": 2,
       "version_minor": 0
      },
      "text/plain": [
       "Button(description='Homework 5', style=ButtonStyle())"
      ]
     },
     "metadata": {},
     "output_type": "display_data"
    },
    {
     "data": {
      "application/vnd.jupyter.widget-view+json": {
       "model_id": "48a217fa33dc439fbe4be2eb5fa1ef8b",
       "version_major": 2,
       "version_minor": 0
      },
      "text/plain": [
       "Output()"
      ]
     },
     "metadata": {},
     "output_type": "display_data"
    },
    {
     "data": {
      "application/vnd.jupyter.widget-view+json": {
       "model_id": "1b51766022f54f37b262416e2dff2302",
       "version_major": 2,
       "version_minor": 0
      },
      "text/plain": [
       "Button(description='Homework 6', style=ButtonStyle())"
      ]
     },
     "metadata": {},
     "output_type": "display_data"
    },
    {
     "data": {
      "application/vnd.jupyter.widget-view+json": {
       "model_id": "97f6d981049448dcaf7961cefca037e2",
       "version_major": 2,
       "version_minor": 0
      },
      "text/plain": [
       "Output()"
      ]
     },
     "metadata": {},
     "output_type": "display_data"
    }
   ],
   "source": [
    "\n",
    "style = {'description_width': 'initial'}\n",
    "style=style\n",
    "\n",
    "gravity=widgets.FloatText(\n",
    "    value=9.81,\n",
    "    description='Gravity: ',\n",
    "    disabled=True,\n",
    "    style=style\n",
    ")\n",
    "\n",
    "ExitMach=widgets.FloatText(\n",
    "    value=1,\n",
    "    description='Mach at Exit: ',\n",
    "    disabled=False,\n",
    "    style=style\n",
    ")\n",
    "\n",
    "ChamberPress=widgets.FloatText(\n",
    "    value=792897,\n",
    "    description='Chamber Pressure: ',\n",
    "    disabled=False,\n",
    "    style=style\n",
    ")\n",
    "\n",
    "GasConstant=widgets.FloatText(\n",
    "    value=287,\n",
    "    description='Gas Constant: ',\n",
    "    disabled=False,\n",
    "    style=style\n",
    ")\n",
    "\n",
    "MassFlowRate=widgets.FloatText(\n",
    "    value=0.0996,\n",
    "    description='Mass Flow Rate: ',\n",
    "    disabled=False,\n",
    "    style=style\n",
    ")\n",
    "\n",
    "Alt_Select=widgets.SelectionSlider(options=AltTable,\n",
    "    value=0,\n",
    "    description='Craft Altitude: ',\n",
    "    disabled=False,\n",
    "    continuous_update=True,\n",
    "    orientation='horizontal',\n",
    "    readout=True,\n",
    "    style=style\n",
    ")\n",
    "\n",
    "Units_Select=widgets.ToggleButtons(\n",
    "    options=['Metric','Imperial'],\n",
    "    value='Metric',\n",
    "    description='System: ',\n",
    "    disabled=False,\n",
    "    button_style='', # 'success', 'info', 'warning', 'danger' or ''\n",
    "    tooltips=['Description of Metric', 'Description of Imperial'],\n",
    "    # icons=['check'] * 2\n",
    ")\n",
    "\n",
    "\n",
    "\n",
    "\n",
    "SpecificHeatRatio = widgets.FloatSlider(min=1.0 , max=1.70 , step=0.01 , \n",
    "                                        description=\"Ratio of Specific Heats: \", \n",
    "                                        value=1.4,\n",
    "                                        style=style\n",
    ")\n",
    "\n",
    "\n",
    "\n",
    "\n",
    "Alt_Select.observe(ChangeUnits , names=['options'])\n",
    "Units_Select.observe(ChangeUnits , names=['value'])\n",
    "\n",
    "\n",
    "\n",
    "DispWindows1=widgets.VBox([Units_Select , SpecificHeatRatio , Alt_Select],\n",
    "                        layout=widgets.Layout(overflow='visible',\n",
    "                        align_items='center',\n",
    "                        align_contents='center',)\n",
    ")\n",
    "\n",
    "DispWindows2=widgets.HBox([gravity, ExitMach, ChamberPress],\n",
    "                        layout=widgets.Layout(overflow='visible',\n",
    "                        align_items='center',\n",
    "                        align_contents='center',)\n",
    ")\n",
    "\n",
    "DispWindows3=widgets.HBox([GasConstant,MassFlowRate],\n",
    "                        layout=widgets.Layout(overflow='visible',\n",
    "                        align_items='center',\n",
    "                        align_contents='center',)\n",
    ")\n",
    "\n",
    "display(DispWindows1,DispWindows2,DispWindows3)\n",
    "\n",
    "display(RCSsolver, outputRCS)\n",
    "\n",
    "display(homework3, outputhw3)\n",
    "display(homework4, outputhw4)\n",
    "display(homework5, outputhw5)\n",
    "display(homework6, outputhw6)\n",
    " \n",
    "\n",
    "\n",
    "\n"
   ]
  }
 ],
 "metadata": {
  "kernelspec": {
   "display_name": "Python 3",
   "language": "python",
   "name": "python3"
  },
  "language_info": {
   "codemirror_mode": {
    "name": "ipython",
    "version": 3
   },
   "file_extension": ".py",
   "mimetype": "text/x-python",
   "name": "python",
   "nbconvert_exporter": "python",
   "pygments_lexer": "ipython3",
   "version": "3.7.6"
  }
 },
 "nbformat": 4,
 "nbformat_minor": 2
}
