{
 "cells": [
  {
   "cell_type": "markdown",
   "metadata": {},
   "source": [
    "# Rocket Calculations Software"
   ]
  },
  {
   "cell_type": "markdown",
   "metadata": {},
   "source": [
    "#### Written by Brendan"
   ]
  },
  {
   "cell_type": "code",
   "execution_count": 1,
   "metadata": {},
   "outputs": [],
   "source": [
    "import matplotlib.pyplot as plt\n",
    "import numpy as np\n",
    "import pandas as pd\n",
    "import ipywidgets as widgets\n",
    "import time\n",
    "import math\n",
    "from IPython.display import display"
   ]
  },
  {
   "cell_type": "code",
   "execution_count": 2,
   "metadata": {},
   "outputs": [],
   "source": [
    "SIAltTable=[i*1000 for i in [0,1,3,5,10,25,50,75,100,130,160,200,300,400,600,1000]]\n",
    "SITempTable=[288.15,281.651,268.65,255.65,223.252,221.552,270.65,206.65,195.08,469.27,696.29,845.56,976.01,995.83,999.85,1000]\n",
    "SIPressTable=[i*101325 for i in [1,0.887,0.66919,0.53313,0.26151,0.025158,0.00078735,0.000020408,0.00000031593,1.2341e-8,2.9997e-9,8.3628e-10,8.6557e-11,1.4328e-11,8.1056e-13,7.4155e-14]]\n",
    "USAltTable=[i*3.28084 for i in SIAltTable]\n",
    "USTempTable=[i*1.8 for i in SITempTable]\n",
    "USPressTable=[i*0.020885434273039 for i in SIPressTable]\n",
    "\n",
    "AltTable=SIAltTable\n",
    "TempTable=SITempTable\n",
    "PressTable=SIPressTable\n",
    "\n",
    "def ChangeUnits(change):\n",
    "    \n",
    "    global AltTable\n",
    "    global TempTable\n",
    "    global PressTable\n",
    "    global GasConstant\n",
    "    \n",
    "    if (Units_Select.value == 'Metric'): \n",
    "        gravity.value=9.81\n",
    "        AltTable=SIAltTable\n",
    "        TempTable=SITempTable\n",
    "        PressTable=SIPressTable\n",
    "        Alt_Select.options=AltTable\n",
    "\n",
    "    elif (Units_Select.value == 'Imperial'):\n",
    "        gravity.value=32.17\n",
    "        AltTable=USAltTable\n",
    "        TempTable=USTempTable\n",
    "        PressTable=USPressTable\n",
    "        Alt_Select.options=AltTable\n",
    "                                  \n",
    "    else:\n",
    "        print('ERROR')\n",
    "    \n",
    "%run RocketEquations.py\n",
    "\n"
   ]
  },
  {
   "cell_type": "markdown",
   "metadata": {},
   "source": [
    "## Homework Code"
   ]
  },
  {
   "cell_type": "code",
   "execution_count": 3,
   "metadata": {},
   "outputs": [],
   "source": [
    "# homework 3\n",
    "homework3 = widgets.Button(description=\"Homework 3\")\n",
    "outputhw3 = widgets.Output()\n",
    "def hw3(b):\n",
    "    with outputhw3:\n",
    "        print('\\n~~~~~~~~~~~~~~~~~~~~~~~')\n",
    "        print('~ Homework 3 Results: ~')\n",
    "        print('~~~~~~~~~~~~~~~~~~~~~~~\\n')\n",
    "        po=ChamberP(PressTable[AltTable.index(Alt_Select.value)],SpecificHeatRatio.value,ExitMach.value)\n",
    "        print('Chamber Pressure: ','{0:.0f}'.format(po),' (Pa)')\n",
    "        ER=ExpansionRatio(SpecificHeatRatio.value,ExitMach.value)\n",
    "        print('Nozzle Area Ratio: ','{0:.3f}'.format(ER),' (~)')\n",
    "\n",
    "homework3.on_click(hw3)\n",
    "\n",
    "\n",
    "# homework 4\n",
    "homework4 = widgets.Button(description=\"Homework 4\")\n",
    "outputhw4 = widgets.Output()\n",
    "def hw4(b):\n",
    "    with outputhw4:\n",
    "        \n",
    "        print('Plot 3-1\\n')\n",
    "        k=1.2\n",
    "        M=np.arange(0.1,10.1,0.001)\n",
    "        PPo=PressureRatio(k,M)\n",
    "        TTo=TempRatio(k,M)\n",
    "        AR=ExpansionRatio(k,M)\n",
    "        \n",
    "        color='tab:red'\n",
    "        fig,ax1=plt.subplots()\n",
    "        plt.xscale('log')\n",
    "        plt.yscale('log')\n",
    "        ax1.set_xlabel('Mach Number')\n",
    "        ax1.set_ylabel('Pressure and Temperature Ratios', color=color)\n",
    "        pressline=ax1.plot(M,PPo,color='tab:orange', label=\"p/po\")\n",
    "        templine=ax1.plot(M,TTo,color='tab:purple', label=\"T/To\")\n",
    "        ax1.tick_params(axis='y', labelcolor=color)\n",
    "        ax1.set_ylim([0.01,5])\n",
    "        plt.xlabel('Mach Number')\n",
    "        plt.legend(bbox_to_anchor=(1.05, 1), loc='upper left', borderaxespad=0.)\n",
    "        ax2=ax1.twinx()  \n",
    "\n",
    "        plt.xscale('log')\n",
    "        plt.yscale('log')\n",
    "        color='tab:blue'\n",
    "        ax2.set_ylabel('Area Ratio', color=color)  \n",
    "        arealine=ax2.plot(M,AR,color=color, label='A/At')\n",
    "        ax2.tick_params(axis='y', labelcolor=color)\n",
    "        ax2.set_ylim([1.0,500])\n",
    "        plt.xlim(0.10,10)\n",
    "        plt.title('Area Ratio, Pressure Ratio, and Temperature Ratio as a Function of Mach Number\\n')\n",
    "        fig.tight_layout()  \n",
    "        plt.legend(bbox_to_anchor=(1.05, 1), loc='lower left', borderaxespad=0.)\n",
    "        plt.show() \n",
    "        \n",
    "        print('Plot 3-2\\n')\n",
    "        \n",
    "        \n",
    "        k=1.3\n",
    "        PPo1=40.0\n",
    "        PPo2=20.0\n",
    "        ToM=np.arange(70.0,280.1,0.1)\n",
    "        R=1545\n",
    "        V1=(((2*k*32.2)/(k-1))*R*ToM*(1-((PPo1)**-1)**((k-1)/k)))**(1/2)\n",
    "        V2=(((2*k*32.2)/(k-1))*R*ToM*(1-((PPo2)**-1)**((k-1)/k)))**(1/2)\n",
    "        gc=32.2\n",
    "        \n",
    "        fig,ax1=plt.subplots()\n",
    "        color='tab:green'\n",
    "        ax1.set_xlabel('T1/M (R-lb-mol/lbm)')\n",
    "        ax1.set_ylabel('Ideal Specific Impulse (s)')\n",
    "        ax1.plot(ToM,SpecificImpulseV(V1,gc),color=color,label='p1/p2=40')\n",
    "        ax1.set_ylim([120,280])\n",
    "        plt.xlabel('T1/M (R-lb-mol/lbm)')\n",
    "        plt.legend(bbox_to_anchor=(1.15, 1), loc='upper left', borderaxespad=0.)\n",
    "        ax2=ax1.twinx()  \n",
    "\n",
    "        color='tab:orange'\n",
    "        ax2.set_ylabel('Ideal Exhaust Velocity (ft/sec)')  \n",
    "        ax2.plot(ToM,V2,color=color,label='p1/p2=20')\n",
    "        ax2.set_ylim([3900, 9050])\n",
    "        plt.xlim(70,280)\n",
    "        plt.title('Isp and Ideal Ve With Respect to T1/M for p1/p2 of 20 and 40\\n\\n')\n",
    "        fig.tight_layout() \n",
    "        plt.legend(bbox_to_anchor=(1.15, 1), loc='lower left', borderaxespad=0.)\n",
    "        plt.show()          \n",
    "        \n",
    "        \n",
    "\n",
    "homework4.on_click(hw4)\n",
    "\n",
    "\n",
    "# homework 5\n",
    "homework5 = widgets.Button(description=\"Homework 5\")\n",
    "outputhw5 = widgets.Output()\n",
    "def hw5(b):\n",
    "    with outputhw5:\n",
    "        \n",
    "        print('Plot 3-5')\n",
    "        \n",
    "        k=1.20\n",
    "        Epsln=50\n",
    "        p1p2=np.arange(10.0,10000.1,0.1)\n",
    "        p2p1=p1p2**-1\n",
    "        Cf=CfIdeal(k,p2p1)\n",
    "        \n",
    "        \n",
    "        Cfcoords=[]\n",
    "        Pcoords=[]\n",
    "        \n",
    "        for K in(1.1,1.2,1.25,1.3,1.4):\n",
    "            AR=AreaRatio(K,p2p1)\n",
    "            AR=AR.tolist()\n",
    "            Cfcoords.append(CfIdeal(K,p2p1[AR.index(FindEpsln(AR,50))]))\n",
    "            \n",
    "        for K in(1.1,1.2,1.25,1.3,1.4):\n",
    "            AR=AreaRatio(K,p2p1)\n",
    "            AR=AR.tolist()\n",
    "            Pcoords.append(p1p2[AR.index(FindEpsln(AR,50))])\n",
    "        \n",
    "        plt.xlabel('p1/p2')\n",
    "        plt.ylabel('Cf')\n",
    "        plt.plot(p1p2,Cf, color='tab:blue',label='k=1.20')\n",
    "        plt.plot(Pcoords,Cfcoords,color='tab:red',label='Epsilon=50')\n",
    "        plt.xlim([10,10000])\n",
    "        plt.xscale('log')\n",
    "        plt.ylim([1.2,2.3])\n",
    "        plt.title('Coefficient of Thrust @ k=1.20 vs. p1/p2 Intersecting Epsilon=50\\n')\n",
    "        plt.legend(bbox_to_anchor=(1.06, 1), loc='upper left', borderaxespad=0.)\n",
    "        plt.show()\n",
    "        \n",
    "homework5.on_click(hw5)\n",
    "\n",
    "\n",
    "# homework 6\n",
    "homework6 = widgets.Button(description=\"Homework 6\")\n",
    "outputhw6 = widgets.Output()\n",
    "def hw6(b):\n",
    "    with outputhw6:\n",
    "        p3=SIPressTable[SIAltTable.index(25000)]\n",
    "        t3=SITempTable[SIAltTable.index(25000)]\n",
    "        F=5000\n",
    "        p1=2.039e6\n",
    "        t1=2800\n",
    "        k=1.20\n",
    "        R=360\n",
    "        p2=p3\n",
    "        p2p1=p2/p1\n",
    "        AR=(AreaRatio(k,p2p1))**-1\n",
    "        Tt=(2*t1)/(k+1)\n",
    "        v2=ExhaustVMet(k,R,t1,p2p1)\n",
    "        mdot=MassFlow(F,v2)\n",
    "        At=ThroatArea(mdot,p1,R,t1,k)\n",
    "        Ae=At/AR\n",
    "        \n",
    "        print('Throat Area: ','{0:.4f}'.format(At),' (m^2)\\n')\n",
    "        print('Exit Area: ','{0:.4f}'.format(Ae),' (m^2)\\n')\n",
    "        print('Throat Temperature: ','{0:.1f}'.format(Tt),' (K)\\n')\n",
    "        print('Exit Velocity: ','{0:.1f}'.format(v2),' (m/s)\\n')\n",
    "        \n",
    "        \n",
    "        \n",
    "        \n",
    "\n",
    "homework6.on_click(hw6)"
   ]
  },
  {
   "cell_type": "markdown",
   "metadata": {},
   "source": [
    "## Solvers"
   ]
  },
  {
   "cell_type": "code",
   "execution_count": 4,
   "metadata": {},
   "outputs": [],
   "source": [
    "# Cold Gas Thruster Solver\n",
    "RCSsolver = widgets.Button(description=\"RCS Nozzle\")\n",
    "outputRCS = widgets.Output()\n",
    "def RCSfunc(b):\n",
    "    with outputRCS:\n",
    "        p3=SIPressTable[SIAltTable.index(Alt_Select.value)]\n",
    "        t3=SITempTable[SIAltTable.index(Alt_Select.value)]\n",
    "        p1=ChamberPress.value\n",
    "        t1=t3\n",
    "        k=SpecificHeatRatio.value\n",
    "        R=GasConstant.value\n",
    "        p2=p3\n",
    "        p2p1=p2/p1\n",
    "        AR=(AreaRatio(k,p2p1))**-1\n",
    "        Tt=(2*t1)/(k+1)\n",
    "        v2=ExhaustVMet(k,R,t1,p2p1)\n",
    "        mdot=MassFlowRate.value\n",
    "        At=ThroatArea(mdot,p1,R,t1,k)\n",
    "        Ae=At/AR\n",
    "        Thrust=v2*mdot\n",
    "        Isp=SpecificImpulseV(v2,gravity.value)\n",
    "        \n",
    "        print('Throat Area: ','{0:.8f}'.format(At),' (m^2)\\n')\n",
    "        print('Exit Area: ','{0:.8f}'.format(Ae),' (m^2)\\n')\n",
    "        print('Throat Temperature: ','{0:.1f}'.format(Tt),' (K)\\n')\n",
    "        print('Exit Velocity: ','{0:.1f}'.format(v2),' (m/s)\\n')\n",
    "        print('Ideal Thrust: ','{0:.1f}'.format(Thrust),' (N)\\n')\n",
    "        print('Specific Impulse: ','{0:.1f}'.format(Isp),' (sec)\\n')\n",
    "        # Working design...\n",
    "        # Chamber Pressure: 792897 Pa\n",
    "        # Gas constsnt: 287 \n",
    "        # Chamber Temperature: SL Ambient\n",
    "        # Mass Flow Rate: 0.0996 kg/s\n",
    "        \n",
    "        \n",
    "\n",
    "RCSsolver.on_click(RCSfunc)"
   ]
  },
  {
   "cell_type": "markdown",
   "metadata": {},
   "source": [
    "## GUI"
   ]
  },
  {
   "cell_type": "code",
   "execution_count": 5,
   "metadata": {
    "scrolled": false
   },
   "outputs": [
    {
     "data": {
      "application/vnd.jupyter.widget-view+json": {
       "model_id": "737beef5d0224ad18621ae4559a2f7f6",
       "version_major": 2,
       "version_minor": 0
      },
      "text/plain": [
       "VBox(children=(ToggleButtons(description='System: ', options=('Metric', 'Imperial'), tooltips=('Description of…"
      ]
     },
     "metadata": {},
     "output_type": "display_data"
    },
    {
     "data": {
      "application/vnd.jupyter.widget-view+json": {
       "model_id": "5d0f1418399b430c9d05da3b1da4e532",
       "version_major": 2,
       "version_minor": 0
      },
      "text/plain": [
       "HBox(children=(FloatText(value=9.81, description='Gravity: ', disabled=True, style=DescriptionStyle(descriptio…"
      ]
     },
     "metadata": {},
     "output_type": "display_data"
    },
    {
     "data": {
      "application/vnd.jupyter.widget-view+json": {
       "model_id": "e99356652e9349c9a14b5ac7a6b2afc3",
       "version_major": 2,
       "version_minor": 0
      },
      "text/plain": [
       "HBox(children=(FloatText(value=287.0, description='Gas Constant: ', style=DescriptionStyle(description_width='…"
      ]
     },
     "metadata": {},
     "output_type": "display_data"
    },
    {
     "data": {
      "application/vnd.jupyter.widget-view+json": {
       "model_id": "0832e929f13c47869794561ca749ce0a",
       "version_major": 2,
       "version_minor": 0
      },
      "text/plain": [
       "Button(description='RCS Nozzle', style=ButtonStyle())"
      ]
     },
     "metadata": {},
     "output_type": "display_data"
    },
    {
     "data": {
      "application/vnd.jupyter.widget-view+json": {
       "model_id": "5dfe29c15d9e445ab325218a0fbfa3d9",
       "version_major": 2,
       "version_minor": 0
      },
      "text/plain": [
       "Output()"
      ]
     },
     "metadata": {},
     "output_type": "display_data"
    },
    {
     "data": {
      "application/vnd.jupyter.widget-view+json": {
       "model_id": "733afef3f2e34d3892dcddb6b46618c7",
       "version_major": 2,
       "version_minor": 0
      },
      "text/plain": [
       "Button(description='Homework 3', style=ButtonStyle())"
      ]
     },
     "metadata": {},
     "output_type": "display_data"
    },
    {
     "data": {
      "application/vnd.jupyter.widget-view+json": {
       "model_id": "9c7184e64efd4487912803a4aa07f3ca",
       "version_major": 2,
       "version_minor": 0
      },
      "text/plain": [
       "Output()"
      ]
     },
     "metadata": {},
     "output_type": "display_data"
    },
    {
     "data": {
      "application/vnd.jupyter.widget-view+json": {
       "model_id": "3b75eafa87b54fa48bfa801b7cdbfc4e",
       "version_major": 2,
       "version_minor": 0
      },
      "text/plain": [
       "Button(description='Homework 4', style=ButtonStyle())"
      ]
     },
     "metadata": {},
     "output_type": "display_data"
    },
    {
     "data": {
      "application/vnd.jupyter.widget-view+json": {
       "model_id": "cc5bbb76312041ad9cae8d2323b55c7a",
       "version_major": 2,
       "version_minor": 0
      },
      "text/plain": [
       "Output()"
      ]
     },
     "metadata": {},
     "output_type": "display_data"
    },
    {
     "data": {
      "application/vnd.jupyter.widget-view+json": {
       "model_id": "daddceffb3f04e4896c7bc368bb210ad",
       "version_major": 2,
       "version_minor": 0
      },
      "text/plain": [
       "Button(description='Homework 5', style=ButtonStyle())"
      ]
     },
     "metadata": {},
     "output_type": "display_data"
    },
    {
     "data": {
      "application/vnd.jupyter.widget-view+json": {
       "model_id": "40ea0951476249bf8b14d16a734c9ab3",
       "version_major": 2,
       "version_minor": 0
      },
      "text/plain": [
       "Output()"
      ]
     },
     "metadata": {},
     "output_type": "display_data"
    },
    {
     "data": {
      "application/vnd.jupyter.widget-view+json": {
       "model_id": "05d946a44c7f4f528dff2c4a2e6a5861",
       "version_major": 2,
       "version_minor": 0
      },
      "text/plain": [
       "Button(description='Homework 6', style=ButtonStyle())"
      ]
     },
     "metadata": {},
     "output_type": "display_data"
    },
    {
     "data": {
      "application/vnd.jupyter.widget-view+json": {
       "model_id": "e2a26c9a216b449897524105dc8fc21c",
       "version_major": 2,
       "version_minor": 0
      },
      "text/plain": [
       "Output()"
      ]
     },
     "metadata": {},
     "output_type": "display_data"
    }
   ],
   "source": [
    "\n",
    "style = {'description_width': 'initial'}\n",
    "style=style\n",
    "\n",
    "gravity=widgets.FloatText(\n",
    "    value=9.81,\n",
    "    description='Gravity: ',\n",
    "    disabled=True,\n",
    "    style=style\n",
    ")\n",
    "\n",
    "ExitMach=widgets.FloatText(\n",
    "    value=1,\n",
    "    description='Mach at Exit: ',\n",
    "    disabled=False,\n",
    "    style=style\n",
    ")\n",
    "\n",
    "ChamberPress=widgets.FloatText(\n",
    "    value=792897,\n",
    "    description='Chamber Pressure: ',\n",
    "    disabled=False,\n",
    "    style=style\n",
    ")\n",
    "\n",
    "GasConstant=widgets.FloatText(\n",
    "    value=287,\n",
    "    description='Gas Constant: ',\n",
    "    disabled=False,\n",
    "    style=style\n",
    ")\n",
    "\n",
    "MassFlowRate=widgets.FloatText(\n",
    "    value=0.0996,\n",
    "    description='Mass Flow Rate: ',\n",
    "    disabled=False,\n",
    "    style=style\n",
    ")\n",
    "\n",
    "Alt_Select=widgets.SelectionSlider(options=AltTable,\n",
    "    value=0,\n",
    "    description='Craft Altitude: ',\n",
    "    disabled=False,\n",
    "    continuous_update=True,\n",
    "    orientation='horizontal',\n",
    "    readout=True,\n",
    "    style=style\n",
    ")\n",
    "\n",
    "Units_Select=widgets.ToggleButtons(\n",
    "    options=['Metric','Imperial'],\n",
    "    value='Metric',\n",
    "    description='System: ',\n",
    "    disabled=False,\n",
    "    button_style='', # 'success', 'info', 'warning', 'danger' or ''\n",
    "    tooltips=['Description of Metric', 'Description of Imperial'],\n",
    "    # icons=['check'] * 2\n",
    ")\n",
    "\n",
    "\n",
    "\n",
    "\n",
    "SpecificHeatRatio = widgets.FloatSlider(min=1.0 , max=1.70 , step=0.01 , \n",
    "                                        description=\"Ratio of Specific Heats: \", \n",
    "                                        value=1.4,\n",
    "                                        style=style\n",
    ")\n",
    "\n",
    "\n",
    "\n",
    "\n",
    "Alt_Select.observe(ChangeUnits , names=['options'])\n",
    "Units_Select.observe(ChangeUnits , names=['value'])\n",
    "\n",
    "\n",
    "\n",
    "DispWindows1=widgets.VBox([Units_Select , SpecificHeatRatio , Alt_Select],\n",
    "                        layout=widgets.Layout(overflow='visible',\n",
    "                        align_items='center',\n",
    "                        align_contents='center',)\n",
    ")\n",
    "\n",
    "DispWindows2=widgets.HBox([gravity, ExitMach, ChamberPress],\n",
    "                        layout=widgets.Layout(overflow='visible',\n",
    "                        align_items='center',\n",
    "                        align_contents='center',)\n",
    ")\n",
    "\n",
    "DispWindows3=widgets.HBox([GasConstant,MassFlowRate],\n",
    "                        layout=widgets.Layout(overflow='visible',\n",
    "                        align_items='center',\n",
    "                        align_contents='center',)\n",
    ")\n",
    "\n",
    "display(DispWindows1,DispWindows2,DispWindows3)\n",
    "\n",
    "display(RCSsolver, outputRCS)\n",
    "\n",
    "display(homework3, outputhw3)\n",
    "display(homework4, outputhw4)\n",
    "display(homework5, outputhw5)\n",
    "display(homework6, outputhw6)\n",
    " \n",
    "\n",
    "\n",
    "\n"
   ]
  }
 ],
 "metadata": {
  "kernelspec": {
   "display_name": "Python 3",
   "language": "python",
   "name": "python3"
  },
  "language_info": {
   "codemirror_mode": {
    "name": "ipython",
    "version": 3
   },
   "file_extension": ".py",
   "mimetype": "text/x-python",
   "name": "python",
   "nbconvert_exporter": "python",
   "pygments_lexer": "ipython3",
   "version": "3.7.4"
  }
 },
 "nbformat": 4,
 "nbformat_minor": 2
}
